{
 "cells": [
  {
   "cell_type": "code",
   "execution_count": 1,
   "metadata": {},
   "outputs": [],
   "source": [
    "import pandas as pd\n",
    "import numpy as np\n",
    "import matplotlib.pyplot as plt\n",
    "import seaborn as sns"
   ]
  },
  {
   "cell_type": "code",
   "execution_count": 2,
   "metadata": {},
   "outputs": [],
   "source": [
    "df = pd.read_csv('preprocessed_dataset.csv', index_col=0)"
   ]
  },
  {
   "cell_type": "code",
   "execution_count": 3,
   "metadata": {},
   "outputs": [
    {
     "data": {
      "text/html": [
       "<div>\n",
       "<style scoped>\n",
       "    .dataframe tbody tr th:only-of-type {\n",
       "        vertical-align: middle;\n",
       "    }\n",
       "\n",
       "    .dataframe tbody tr th {\n",
       "        vertical-align: top;\n",
       "    }\n",
       "\n",
       "    .dataframe thead th {\n",
       "        text-align: right;\n",
       "    }\n",
       "</style>\n",
       "<table border=\"1\" class=\"dataframe\">\n",
       "  <thead>\n",
       "    <tr style=\"text-align: right;\">\n",
       "      <th></th>\n",
       "      <th>BirthDate</th>\n",
       "      <th>education</th>\n",
       "      <th>employment status</th>\n",
       "      <th>Value</th>\n",
       "      <th>JobStartDate</th>\n",
       "      <th>Position</th>\n",
       "      <th>MonthProfit</th>\n",
       "      <th>MonthExpense</th>\n",
       "      <th>Gender</th>\n",
       "      <th>Family status</th>\n",
       "      <th>...</th>\n",
       "      <th>SNILS</th>\n",
       "      <th>BankA_decision</th>\n",
       "      <th>BankB_decision</th>\n",
       "      <th>BankC_decision</th>\n",
       "      <th>BankD_decision</th>\n",
       "      <th>BankE_decision</th>\n",
       "      <th>Merch_code</th>\n",
       "      <th>Loan_amount</th>\n",
       "      <th>Loan_term</th>\n",
       "      <th>Goods_category</th>\n",
       "    </tr>\n",
       "    <tr>\n",
       "      <th>SkillFactory_Id</th>\n",
       "      <th></th>\n",
       "      <th></th>\n",
       "      <th></th>\n",
       "      <th></th>\n",
       "      <th></th>\n",
       "      <th></th>\n",
       "      <th></th>\n",
       "      <th></th>\n",
       "      <th></th>\n",
       "      <th></th>\n",
       "      <th></th>\n",
       "      <th></th>\n",
       "      <th></th>\n",
       "      <th></th>\n",
       "      <th></th>\n",
       "      <th></th>\n",
       "      <th></th>\n",
       "      <th></th>\n",
       "      <th></th>\n",
       "      <th></th>\n",
       "      <th></th>\n",
       "    </tr>\n",
       "  </thead>\n",
       "  <tbody>\n",
       "    <tr>\n",
       "      <th>1</th>\n",
       "      <td>1988-07-21</td>\n",
       "      <td>Высшее - специалист</td>\n",
       "      <td>Работаю по найму полный рабочий день/служу</td>\n",
       "      <td>9 - 10 лет</td>\n",
       "      <td>2013-09-01</td>\n",
       "      <td>начальник п</td>\n",
       "      <td>180000</td>\n",
       "      <td>90000</td>\n",
       "      <td>0</td>\n",
       "      <td>Никогда в браке не состоял(а)</td>\n",
       "      <td>...</td>\n",
       "      <td>0</td>\n",
       "      <td>success</td>\n",
       "      <td>success</td>\n",
       "      <td>success</td>\n",
       "      <td>success</td>\n",
       "      <td>denied</td>\n",
       "      <td>77</td>\n",
       "      <td>137000</td>\n",
       "      <td>18</td>\n",
       "      <td>Furniture</td>\n",
       "    </tr>\n",
       "    <tr>\n",
       "      <th>2</th>\n",
       "      <td>1998-01-16</td>\n",
       "      <td>Высшее - специалист</td>\n",
       "      <td>Собственное дело</td>\n",
       "      <td>1 - 2 года</td>\n",
       "      <td>2022-12-01</td>\n",
       "      <td>директор</td>\n",
       "      <td>200000</td>\n",
       "      <td>60000</td>\n",
       "      <td>0</td>\n",
       "      <td>Никогда в браке не состоял(а)</td>\n",
       "      <td>...</td>\n",
       "      <td>0</td>\n",
       "      <td>success</td>\n",
       "      <td>denied</td>\n",
       "      <td>success</td>\n",
       "      <td>denied</td>\n",
       "      <td>success</td>\n",
       "      <td>27</td>\n",
       "      <td>33000</td>\n",
       "      <td>6</td>\n",
       "      <td>Fitness</td>\n",
       "    </tr>\n",
       "    <tr>\n",
       "      <th>3</th>\n",
       "      <td>1972-10-02</td>\n",
       "      <td>Высшее - специалист</td>\n",
       "      <td>Работаю по найму полный рабочий день/служу</td>\n",
       "      <td>10 и более лет</td>\n",
       "      <td>2005-12-01</td>\n",
       "      <td>ДИРЕКТОР</td>\n",
       "      <td>300000</td>\n",
       "      <td>45000</td>\n",
       "      <td>1</td>\n",
       "      <td>Никогда в браке не состоял(а)</td>\n",
       "      <td>...</td>\n",
       "      <td>0</td>\n",
       "      <td>denied</td>\n",
       "      <td>denied</td>\n",
       "      <td>success</td>\n",
       "      <td>success</td>\n",
       "      <td>success</td>\n",
       "      <td>19</td>\n",
       "      <td>165000</td>\n",
       "      <td>24</td>\n",
       "      <td>Medical_services</td>\n",
       "    </tr>\n",
       "    <tr>\n",
       "      <th>4</th>\n",
       "      <td>1972-10-02</td>\n",
       "      <td>Высшее - специалист</td>\n",
       "      <td>Работаю по найму полный рабочий день/служу</td>\n",
       "      <td>10 и более лет</td>\n",
       "      <td>2005-12-01</td>\n",
       "      <td>ДИРЕКТОР</td>\n",
       "      <td>300000</td>\n",
       "      <td>45000</td>\n",
       "      <td>1</td>\n",
       "      <td>Никогда в браке не состоял(а)</td>\n",
       "      <td>...</td>\n",
       "      <td>0</td>\n",
       "      <td>success</td>\n",
       "      <td>denied</td>\n",
       "      <td>success</td>\n",
       "      <td>success</td>\n",
       "      <td>success</td>\n",
       "      <td>34</td>\n",
       "      <td>67000</td>\n",
       "      <td>12</td>\n",
       "      <td>Education</td>\n",
       "    </tr>\n",
       "    <tr>\n",
       "      <th>5</th>\n",
       "      <td>1972-10-02</td>\n",
       "      <td>Высшее - специалист</td>\n",
       "      <td>Работаю по найму полный рабочий день/служу</td>\n",
       "      <td>10 и более лет</td>\n",
       "      <td>2005-12-01</td>\n",
       "      <td>ДИРЕКТОР</td>\n",
       "      <td>300000</td>\n",
       "      <td>45000</td>\n",
       "      <td>1</td>\n",
       "      <td>Никогда в браке не состоял(а)</td>\n",
       "      <td>...</td>\n",
       "      <td>0</td>\n",
       "      <td>success</td>\n",
       "      <td>denied</td>\n",
       "      <td>success</td>\n",
       "      <td>success</td>\n",
       "      <td>success</td>\n",
       "      <td>75</td>\n",
       "      <td>36000</td>\n",
       "      <td>6</td>\n",
       "      <td>Furniture</td>\n",
       "    </tr>\n",
       "  </tbody>\n",
       "</table>\n",
       "<p>5 rows × 21 columns</p>\n",
       "</div>"
      ],
      "text/plain": [
       "                  BirthDate            education  \\\n",
       "SkillFactory_Id                                    \n",
       "1                1988-07-21  Высшее - специалист   \n",
       "2                1998-01-16  Высшее - специалист   \n",
       "3                1972-10-02  Высшее - специалист   \n",
       "4                1972-10-02  Высшее - специалист   \n",
       "5                1972-10-02  Высшее - специалист   \n",
       "\n",
       "                                          employment status           Value  \\\n",
       "SkillFactory_Id                                                               \n",
       "1                Работаю по найму полный рабочий день/служу      9 - 10 лет   \n",
       "2                                          Собственное дело      1 - 2 года   \n",
       "3                Работаю по найму полный рабочий день/служу  10 и более лет   \n",
       "4                Работаю по найму полный рабочий день/служу  10 и более лет   \n",
       "5                Работаю по найму полный рабочий день/служу  10 и более лет   \n",
       "\n",
       "                JobStartDate     Position  MonthProfit  MonthExpense  Gender  \\\n",
       "SkillFactory_Id                                                                \n",
       "1                 2013-09-01  начальник п       180000         90000       0   \n",
       "2                 2022-12-01     директор       200000         60000       0   \n",
       "3                 2005-12-01     ДИРЕКТОР       300000         45000       1   \n",
       "4                 2005-12-01     ДИРЕКТОР       300000         45000       1   \n",
       "5                 2005-12-01     ДИРЕКТОР       300000         45000       1   \n",
       "\n",
       "                                 Family status  ...  SNILS  BankA_decision  \\\n",
       "SkillFactory_Id                                 ...                          \n",
       "1                Никогда в браке не состоял(а)  ...      0         success   \n",
       "2                Никогда в браке не состоял(а)  ...      0         success   \n",
       "3                Никогда в браке не состоял(а)  ...      0          denied   \n",
       "4                Никогда в браке не состоял(а)  ...      0         success   \n",
       "5                Никогда в браке не состоял(а)  ...      0         success   \n",
       "\n",
       "                BankB_decision BankC_decision BankD_decision BankE_decision  \\\n",
       "SkillFactory_Id                                                               \n",
       "1                      success        success        success         denied   \n",
       "2                       denied        success         denied        success   \n",
       "3                       denied        success        success        success   \n",
       "4                       denied        success        success        success   \n",
       "5                       denied        success        success        success   \n",
       "\n",
       "                Merch_code  Loan_amount  Loan_term    Goods_category  \n",
       "SkillFactory_Id                                                       \n",
       "1                       77       137000         18         Furniture  \n",
       "2                       27        33000          6           Fitness  \n",
       "3                       19       165000         24  Medical_services  \n",
       "4                       34        67000         12         Education  \n",
       "5                       75        36000          6         Furniture  \n",
       "\n",
       "[5 rows x 21 columns]"
      ]
     },
     "execution_count": 3,
     "metadata": {},
     "output_type": "execute_result"
    }
   ],
   "source": [
    "df.head()"
   ]
  },
  {
   "cell_type": "code",
   "execution_count": 4,
   "metadata": {},
   "outputs": [],
   "source": [
    "df.drop(['Position'], axis=1, inplace=True)"
   ]
  },
  {
   "cell_type": "code",
   "execution_count": null,
   "metadata": {},
   "outputs": [],
   "source": []
  },
  {
   "cell_type": "code",
   "execution_count": 5,
   "metadata": {},
   "outputs": [],
   "source": [
    "df['BirthDate'] = pd.to_datetime(df['BirthDate'])\n",
    "df['JobStartDate'] = pd.to_datetime(df['JobStartDate'])\n",
    "df['MonthProfit'] = df['MonthProfit'].astype('UInt64')\n",
    "df['MonthExpense'] = df['MonthExpense'].astype('UInt64')\n",
    "df['Loan_amount'] = df['Loan_amount'].astype('UInt64')\n",
    "df['SNILS'] = df['SNILS'].round().astype('UInt8')\n",
    "df['Gender'] = df['Gender'].round().astype('UInt8')\n",
    "df['Merch_code'] = df['Merch_code'].astype('UInt8')\n",
    "df['ChildCount'] = df['ChildCount'].astype('UInt8')\n",
    "df['Loan_term'] = df['Loan_term'].astype('UInt8')\n",
    "df['SNILS'] = df['SNILS'].round().astype('category')\n",
    "df['Gender'] = df['Gender'].round().astype('category')\n",
    "df['education'] = df['education'].astype('category')\n",
    "df['Family status'] = df['Family status'].astype('category')\n",
    "df['Goods_category'] = df['Goods_category'].astype('category')\n",
    "df['Value'] = df['Value'].astype('category')\n",
    "df['Loan_term'] = df['Loan_term'].astype('category')\n",
    "df['employment status'] = df['employment status'].astype('category')\n",
    "for i in ('A', 'B', 'C', 'D', 'E'):\n",
    "    df[f'Bank{i}_decision'] = df[f'Bank{i}_decision'].astype('category')"
   ]
  },
  {
   "cell_type": "code",
   "execution_count": 6,
   "metadata": {},
   "outputs": [
    {
     "name": "stdout",
     "output_type": "stream",
     "text": [
      "<class 'pandas.core.frame.DataFrame'>\n",
      "Index: 6464 entries, 1 to 8787\n",
      "Data columns (total 20 columns):\n",
      " #   Column             Non-Null Count  Dtype         \n",
      "---  ------             --------------  -----         \n",
      " 0   BirthDate          6464 non-null   datetime64[ns]\n",
      " 1   education          6464 non-null   category      \n",
      " 2   employment status  6464 non-null   category      \n",
      " 3   Value              6464 non-null   category      \n",
      " 4   JobStartDate       6464 non-null   datetime64[ns]\n",
      " 5   MonthProfit        6464 non-null   UInt64        \n",
      " 6   MonthExpense       6464 non-null   UInt64        \n",
      " 7   Gender             6464 non-null   category      \n",
      " 8   Family status      6464 non-null   category      \n",
      " 9   ChildCount         6464 non-null   UInt8         \n",
      " 10  SNILS              6464 non-null   category      \n",
      " 11  BankA_decision     6464 non-null   category      \n",
      " 12  BankB_decision     6464 non-null   category      \n",
      " 13  BankC_decision     6464 non-null   category      \n",
      " 14  BankD_decision     6464 non-null   category      \n",
      " 15  BankE_decision     6464 non-null   category      \n",
      " 16  Merch_code         6464 non-null   UInt8         \n",
      " 17  Loan_amount        6464 non-null   UInt64        \n",
      " 18  Loan_term          6464 non-null   category      \n",
      " 19  Goods_category     6464 non-null   category      \n",
      "dtypes: UInt64(3), UInt8(2), category(13), datetime64[ns](2)\n",
      "memory usage: 432.1 KB\n"
     ]
    }
   ],
   "source": [
    "df.info()"
   ]
  },
  {
   "cell_type": "code",
   "execution_count": 7,
   "metadata": {},
   "outputs": [],
   "source": [
    "bankAds = df.copy()\n",
    "bankBds = df.copy()\n",
    "bankCds = df.copy()\n",
    "bankDds = df.copy()\n",
    "bankEds = df.copy()"
   ]
  },
  {
   "cell_type": "code",
   "execution_count": null,
   "metadata": {},
   "outputs": [],
   "source": []
  },
  {
   "cell_type": "code",
   "execution_count": 8,
   "metadata": {},
   "outputs": [],
   "source": [
    "bankAds.drop(['BankB_decision', 'BankC_decision', 'BankD_decision', 'BankE_decision'], axis=1, inplace=True)\n",
    "bankBds.drop(['BankA_decision', 'BankC_decision', 'BankD_decision', 'BankE_decision'], axis=1, inplace=True)\n",
    "bankCds.drop(['BankA_decision', 'BankB_decision', 'BankD_decision', 'BankE_decision'], axis=1, inplace=True)\n",
    "bankDds.drop(['BankA_decision', 'BankB_decision', 'BankC_decision', 'BankE_decision'], axis=1, inplace=True)\n",
    "bankEds.drop(['BankA_decision', 'BankB_decision', 'BankC_decision', 'BankD_decision'], axis=1, inplace=True)"
   ]
  },
  {
   "cell_type": "code",
   "execution_count": 9,
   "metadata": {},
   "outputs": [],
   "source": [
    "def drop_errors(df, bank):\n",
    "    df[bank] = df[bank].replace('error', pd.NA)\n",
    "    df.dropna(inplace=True)\n",
    "    return df"
   ]
  },
  {
   "cell_type": "code",
   "execution_count": 10,
   "metadata": {},
   "outputs": [],
   "source": [
    "banks_collumns = ['BankA_decision', 'BankB_decision', 'BankC_decision', 'BankD_decision', 'BankE_decision']"
   ]
  },
  {
   "cell_type": "code",
   "execution_count": 11,
   "metadata": {},
   "outputs": [],
   "source": [
    "bankAds = drop_errors(bankAds, 'BankA_decision')\n",
    "bankBds = drop_errors(bankBds, 'BankB_decision')\n",
    "bankCds = drop_errors(bankCds, 'BankC_decision')\n",
    "bankDds = drop_errors(bankDds, 'BankD_decision')\n",
    "bankEds = drop_errors(bankEds, 'BankE_decision')"
   ]
  },
  {
   "cell_type": "code",
   "execution_count": 12,
   "metadata": {},
   "outputs": [
    {
     "name": "stdout",
     "output_type": "stream",
     "text": [
      "<class 'pandas.core.frame.DataFrame'>\n",
      "Index: 6395 entries, 1 to 8787\n",
      "Data columns (total 16 columns):\n",
      " #   Column             Non-Null Count  Dtype         \n",
      "---  ------             --------------  -----         \n",
      " 0   BirthDate          6395 non-null   datetime64[ns]\n",
      " 1   education          6395 non-null   category      \n",
      " 2   employment status  6395 non-null   category      \n",
      " 3   Value              6395 non-null   category      \n",
      " 4   JobStartDate       6395 non-null   datetime64[ns]\n",
      " 5   MonthProfit        6395 non-null   UInt64        \n",
      " 6   MonthExpense       6395 non-null   UInt64        \n",
      " 7   Gender             6395 non-null   category      \n",
      " 8   Family status      6395 non-null   category      \n",
      " 9   ChildCount         6395 non-null   UInt8         \n",
      " 10  SNILS              6395 non-null   category      \n",
      " 11  BankA_decision     6395 non-null   category      \n",
      " 12  Merch_code         6395 non-null   UInt8         \n",
      " 13  Loan_amount        6395 non-null   UInt64        \n",
      " 14  Loan_term          6395 non-null   category      \n",
      " 15  Goods_category     6395 non-null   category      \n",
      "dtypes: UInt64(3), UInt8(2), category(9), datetime64[ns](2)\n",
      "memory usage: 402.0 KB\n"
     ]
    }
   ],
   "source": [
    "bankAds.info()"
   ]
  },
  {
   "cell_type": "code",
   "execution_count": 13,
   "metadata": {},
   "outputs": [],
   "source": [
    "bankAds.to_csv('bankAds.csv')\n",
    "bankBds.to_csv('bankBds.csv')\n",
    "bankCds.to_csv('bankCds.csv')\n",
    "bankDds.to_csv('bankDds.csv')\n",
    "bankEds.to_csv('bankEds.csv')\n"
   ]
  },
  {
   "cell_type": "code",
   "execution_count": 14,
   "metadata": {},
   "outputs": [
    {
     "name": "stdout",
     "output_type": "stream",
     "text": [
      "<class 'pandas.core.frame.DataFrame'>\n",
      "Index: 6395 entries, 1 to 8787\n",
      "Data columns (total 16 columns):\n",
      " #   Column             Non-Null Count  Dtype         \n",
      "---  ------             --------------  -----         \n",
      " 0   BirthDate          6395 non-null   datetime64[ns]\n",
      " 1   education          6395 non-null   category      \n",
      " 2   employment status  6395 non-null   category      \n",
      " 3   Value              6395 non-null   category      \n",
      " 4   JobStartDate       6395 non-null   datetime64[ns]\n",
      " 5   MonthProfit        6395 non-null   UInt64        \n",
      " 6   MonthExpense       6395 non-null   UInt64        \n",
      " 7   Gender             6395 non-null   category      \n",
      " 8   Family status      6395 non-null   category      \n",
      " 9   ChildCount         6395 non-null   UInt8         \n",
      " 10  SNILS              6395 non-null   category      \n",
      " 11  BankA_decision     6395 non-null   category      \n",
      " 12  Merch_code         6395 non-null   UInt8         \n",
      " 13  Loan_amount        6395 non-null   UInt64        \n",
      " 14  Loan_term          6395 non-null   category      \n",
      " 15  Goods_category     6395 non-null   category      \n",
      "dtypes: UInt64(3), UInt8(2), category(9), datetime64[ns](2)\n",
      "memory usage: 402.0 KB\n"
     ]
    }
   ],
   "source": [
    "bankAds.info()"
   ]
  },
  {
   "cell_type": "code",
   "execution_count": 15,
   "metadata": {},
   "outputs": [
    {
     "data": {
      "text/html": [
       "<div>\n",
       "<style scoped>\n",
       "    .dataframe tbody tr th:only-of-type {\n",
       "        vertical-align: middle;\n",
       "    }\n",
       "\n",
       "    .dataframe tbody tr th {\n",
       "        vertical-align: top;\n",
       "    }\n",
       "\n",
       "    .dataframe thead th {\n",
       "        text-align: right;\n",
       "    }\n",
       "</style>\n",
       "<table border=\"1\" class=\"dataframe\">\n",
       "  <thead>\n",
       "    <tr style=\"text-align: right;\">\n",
       "      <th></th>\n",
       "      <th>BirthDate</th>\n",
       "      <th>education</th>\n",
       "      <th>employment status</th>\n",
       "      <th>Value</th>\n",
       "      <th>JobStartDate</th>\n",
       "      <th>MonthProfit</th>\n",
       "      <th>MonthExpense</th>\n",
       "      <th>Gender</th>\n",
       "      <th>Family status</th>\n",
       "      <th>ChildCount</th>\n",
       "      <th>SNILS</th>\n",
       "      <th>BankA_decision</th>\n",
       "      <th>Merch_code</th>\n",
       "      <th>Loan_amount</th>\n",
       "      <th>Loan_term</th>\n",
       "      <th>Goods_category</th>\n",
       "    </tr>\n",
       "    <tr>\n",
       "      <th>SkillFactory_Id</th>\n",
       "      <th></th>\n",
       "      <th></th>\n",
       "      <th></th>\n",
       "      <th></th>\n",
       "      <th></th>\n",
       "      <th></th>\n",
       "      <th></th>\n",
       "      <th></th>\n",
       "      <th></th>\n",
       "      <th></th>\n",
       "      <th></th>\n",
       "      <th></th>\n",
       "      <th></th>\n",
       "      <th></th>\n",
       "      <th></th>\n",
       "      <th></th>\n",
       "    </tr>\n",
       "  </thead>\n",
       "  <tbody>\n",
       "    <tr>\n",
       "      <th>1</th>\n",
       "      <td>1988-07-21</td>\n",
       "      <td>Высшее - специалист</td>\n",
       "      <td>Работаю по найму полный рабочий день/служу</td>\n",
       "      <td>9 - 10 лет</td>\n",
       "      <td>2013-09-01</td>\n",
       "      <td>180000</td>\n",
       "      <td>90000</td>\n",
       "      <td>0</td>\n",
       "      <td>Никогда в браке не состоял(а)</td>\n",
       "      <td>0</td>\n",
       "      <td>0</td>\n",
       "      <td>success</td>\n",
       "      <td>77</td>\n",
       "      <td>137000</td>\n",
       "      <td>18</td>\n",
       "      <td>Furniture</td>\n",
       "    </tr>\n",
       "    <tr>\n",
       "      <th>2</th>\n",
       "      <td>1998-01-16</td>\n",
       "      <td>Высшее - специалист</td>\n",
       "      <td>Собственное дело</td>\n",
       "      <td>1 - 2 года</td>\n",
       "      <td>2022-12-01</td>\n",
       "      <td>200000</td>\n",
       "      <td>60000</td>\n",
       "      <td>0</td>\n",
       "      <td>Никогда в браке не состоял(а)</td>\n",
       "      <td>0</td>\n",
       "      <td>0</td>\n",
       "      <td>success</td>\n",
       "      <td>27</td>\n",
       "      <td>33000</td>\n",
       "      <td>6</td>\n",
       "      <td>Fitness</td>\n",
       "    </tr>\n",
       "    <tr>\n",
       "      <th>3</th>\n",
       "      <td>1972-10-02</td>\n",
       "      <td>Высшее - специалист</td>\n",
       "      <td>Работаю по найму полный рабочий день/служу</td>\n",
       "      <td>10 и более лет</td>\n",
       "      <td>2005-12-01</td>\n",
       "      <td>300000</td>\n",
       "      <td>45000</td>\n",
       "      <td>1</td>\n",
       "      <td>Никогда в браке не состоял(а)</td>\n",
       "      <td>0</td>\n",
       "      <td>0</td>\n",
       "      <td>denied</td>\n",
       "      <td>19</td>\n",
       "      <td>165000</td>\n",
       "      <td>24</td>\n",
       "      <td>Medical_services</td>\n",
       "    </tr>\n",
       "    <tr>\n",
       "      <th>4</th>\n",
       "      <td>1972-10-02</td>\n",
       "      <td>Высшее - специалист</td>\n",
       "      <td>Работаю по найму полный рабочий день/служу</td>\n",
       "      <td>10 и более лет</td>\n",
       "      <td>2005-12-01</td>\n",
       "      <td>300000</td>\n",
       "      <td>45000</td>\n",
       "      <td>1</td>\n",
       "      <td>Никогда в браке не состоял(а)</td>\n",
       "      <td>0</td>\n",
       "      <td>0</td>\n",
       "      <td>success</td>\n",
       "      <td>34</td>\n",
       "      <td>67000</td>\n",
       "      <td>12</td>\n",
       "      <td>Education</td>\n",
       "    </tr>\n",
       "    <tr>\n",
       "      <th>5</th>\n",
       "      <td>1972-10-02</td>\n",
       "      <td>Высшее - специалист</td>\n",
       "      <td>Работаю по найму полный рабочий день/служу</td>\n",
       "      <td>10 и более лет</td>\n",
       "      <td>2005-12-01</td>\n",
       "      <td>300000</td>\n",
       "      <td>45000</td>\n",
       "      <td>1</td>\n",
       "      <td>Никогда в браке не состоял(а)</td>\n",
       "      <td>0</td>\n",
       "      <td>0</td>\n",
       "      <td>success</td>\n",
       "      <td>75</td>\n",
       "      <td>36000</td>\n",
       "      <td>6</td>\n",
       "      <td>Furniture</td>\n",
       "    </tr>\n",
       "  </tbody>\n",
       "</table>\n",
       "</div>"
      ],
      "text/plain": [
       "                 BirthDate            education  \\\n",
       "SkillFactory_Id                                   \n",
       "1               1988-07-21  Высшее - специалист   \n",
       "2               1998-01-16  Высшее - специалист   \n",
       "3               1972-10-02  Высшее - специалист   \n",
       "4               1972-10-02  Высшее - специалист   \n",
       "5               1972-10-02  Высшее - специалист   \n",
       "\n",
       "                                          employment status           Value  \\\n",
       "SkillFactory_Id                                                               \n",
       "1                Работаю по найму полный рабочий день/служу      9 - 10 лет   \n",
       "2                                          Собственное дело      1 - 2 года   \n",
       "3                Работаю по найму полный рабочий день/служу  10 и более лет   \n",
       "4                Работаю по найму полный рабочий день/служу  10 и более лет   \n",
       "5                Работаю по найму полный рабочий день/служу  10 и более лет   \n",
       "\n",
       "                JobStartDate  MonthProfit  MonthExpense Gender  \\\n",
       "SkillFactory_Id                                                  \n",
       "1                 2013-09-01       180000         90000      0   \n",
       "2                 2022-12-01       200000         60000      0   \n",
       "3                 2005-12-01       300000         45000      1   \n",
       "4                 2005-12-01       300000         45000      1   \n",
       "5                 2005-12-01       300000         45000      1   \n",
       "\n",
       "                                 Family status  ChildCount SNILS  \\\n",
       "SkillFactory_Id                                                    \n",
       "1                Никогда в браке не состоял(а)           0     0   \n",
       "2                Никогда в браке не состоял(а)           0     0   \n",
       "3                Никогда в браке не состоял(а)           0     0   \n",
       "4                Никогда в браке не состоял(а)           0     0   \n",
       "5                Никогда в браке не состоял(а)           0     0   \n",
       "\n",
       "                BankA_decision  Merch_code  Loan_amount Loan_term  \\\n",
       "SkillFactory_Id                                                     \n",
       "1                      success          77       137000        18   \n",
       "2                      success          27        33000         6   \n",
       "3                       denied          19       165000        24   \n",
       "4                      success          34        67000        12   \n",
       "5                      success          75        36000         6   \n",
       "\n",
       "                   Goods_category  \n",
       "SkillFactory_Id                    \n",
       "1                       Furniture  \n",
       "2                         Fitness  \n",
       "3                Medical_services  \n",
       "4                       Education  \n",
       "5                       Furniture  "
      ]
     },
     "execution_count": 15,
     "metadata": {},
     "output_type": "execute_result"
    }
   ],
   "source": [
    "bankAds.head()"
   ]
  },
  {
   "cell_type": "code",
   "execution_count": 16,
   "metadata": {},
   "outputs": [
    {
     "data": {
      "text/plain": [
       "BankA_decision\n",
       "success    4860\n",
       "denied     1535\n",
       "Name: count, dtype: int64"
      ]
     },
     "execution_count": 16,
     "metadata": {},
     "output_type": "execute_result"
    }
   ],
   "source": [
    "bankAds['BankA_decision'].value_counts()"
   ]
  },
  {
   "cell_type": "code",
   "execution_count": 17,
   "metadata": {},
   "outputs": [
    {
     "data": {
      "text/plain": [
       "<Axes: xlabel='BankA_decision'>"
      ]
     },
     "execution_count": 17,
     "metadata": {},
     "output_type": "execute_result"
    },
    {
     "data": {
      "image/png": "[encoded data removed]",
      "text/plain": [
       "<Figure size 640x480 with 1 Axes>"
      ]
     },
     "metadata": {},
     "output_type": "display_data"
    }
   ],
   "source": [
    "bankAds['BankA_decision'].value_counts().plot(kind='bar')"
   ]
  },
  {
   "cell_type": "code",
   "execution_count": 18,
   "metadata": {},
   "outputs": [
    {
     "data": {
      "image/png": "[encoded data removed]",
      "text/plain": [
       "<Figure size 640x480 with 1 Axes>"
      ]
     },
     "metadata": {},
     "output_type": "display_data"
    }
   ],
   "source": [
    "sns.countplot(x='Family status', hue='BankA_decision', data=bankAds)\n",
    "sns.axes_style('whitegrid')\n",
    "plt.show()\n"
   ]
  },
  {
   "cell_type": "code",
   "execution_count": 19,
   "metadata": {},
   "outputs": [
    {
     "data": {
      "text/plain": [
       "<Axes: xlabel='Loan_term', ylabel='count'>"
      ]
     },
     "execution_count": 19,
     "metadata": {},
     "output_type": "execute_result"
    },
    {
     "data": {
      "image/png": "[encoded data removed]",
      "text/plain": [
       "<Figure size 640x480 with 1 Axes>"
      ]
     },
     "metadata": {},
     "output_type": "display_data"
    }
   ],
   "source": [
    "sns.countplot(x='Loan_term', hue='BankA_decision', data=bankAds)\n",
    "# bankAds['Loan_term'].value_counts().plot(kind='bar')"
   ]
  },
  {
   "cell_type": "code",
   "execution_count": 20,
   "metadata": {},
   "outputs": [
    {
     "data": {
      "text/plain": [
       "<Axes: xlabel='education', ylabel='count'>"
      ]
     },
     "execution_count": 20,
     "metadata": {},
     "output_type": "execute_result"
    },
    {
     "data": {
      "image/png": "[encoded data removed]",
      "text/plain": [
       "<Figure size 640x480 with 1 Axes>"
      ]
     },
     "metadata": {},
     "output_type": "display_data"
    }
   ],
   "source": [
    "sns.countplot(x='education', hue='BankA_decision', data=bankAds)"
   ]
  },
  {
   "cell_type": "code",
   "execution_count": 21,
   "metadata": {},
   "outputs": [],
   "source": [
    "# # Select columns related to bank decisions\n",
    "# bank_decisions_by_snils = ['BankA_decision', 'Gender']\n",
    "\n",
    "# # Create a DataFrame containing only bank decision columns\n",
    "# bank_decisions_by_snils_df = df[bank_decisions_by_snils]\n",
    "\n",
    "# # Map 'success' and 'denied' to numeric values (1 and 0)\n",
    "# bank_decisions_df_numeric = pd.DataFrame()\n",
    "# bank_decisions_df_numeric['BankA_decision'] = bank_decisions_by_snils_df['BankA_decision'].map(lambda x: 1 if x == 'success' else 0)\n",
    "# bank_decisions_df_numeric['Gender'] = bank_decisions_by_snils_df['Gender']\n",
    "\n",
    "\n",
    "# # Calculate the correlation matrix\n",
    "# correlation_matrix = bank_decisions_df_numeric.corr()\n",
    "\n",
    "# # Create a heatmap\n",
    "# plt.figure(figsize=(10, 8))\n",
    "# sns.heatmap(correlation_matrix, annot=True, cmap='coolwarm', linewidths=.5)\n",
    "# plt.title('Correlation Heatmap for Bank Decisions')\n",
    "# plt.show()"
   ]
  },
  {
   "cell_type": "code",
   "execution_count": 22,
   "metadata": {},
   "outputs": [],
   "source": [
    "import pandas as pd\n",
    "\n",
    "def remove_outliers_iqr(df, multiplier=1.5):\n",
    "    \"\"\"\n",
    "    Remove outliers from numeric columns in a DataFrame using the IQR method.\n",
    "\n",
    "    Parameters:\n",
    "    - df: pandas DataFrame\n",
    "    - multiplier: Multiplier to control the range of the IQR (default is 1.5)\n",
    "\n",
    "    Returns:\n",
    "    - DataFrame with outliers removed\n",
    "    \"\"\"\n",
    "    # Select numeric columns\n",
    "    numeric_columns = df.select_dtypes(include=['number']).columns\n",
    "\n",
    "    # Create a copy of the original DataFrame\n",
    "    df_no_outliers = df.copy()\n",
    "\n",
    "    # Iterate through numeric columns and remove outliers using IQR method\n",
    "    for column in numeric_columns:\n",
    "        # Calculate IQR\n",
    "        Q1 = df_no_outliers[column].quantile(0.25)\n",
    "        Q3 = df_no_outliers[column].quantile(0.75)\n",
    "        IQR = Q3 - Q1\n",
    "\n",
    "        # Define outlier bounds\n",
    "        lower_bound = Q1 - multiplier * IQR\n",
    "        upper_bound = Q3 + multiplier * IQR\n",
    "\n",
    "        # Remove outliers\n",
    "        outliers_mask = (df_no_outliers[column] >= lower_bound) & (df_no_outliers[column] <= upper_bound)\n",
    "        df_no_outliers = df_no_outliers[outliers_mask]\n",
    "\n",
    "    return df_no_outliers\n"
   ]
  },
  {
   "cell_type": "code",
   "execution_count": 23,
   "metadata": {},
   "outputs": [],
   "source": [
    "cleared_bankAds = remove_outliers_iqr(bankAds)"
   ]
  },
  {
   "cell_type": "code",
   "execution_count": 25,
   "metadata": {},
   "outputs": [
    {
     "name": "stdout",
     "output_type": "stream",
     "text": [
      "<class 'pandas.core.frame.DataFrame'>\n",
      "Index: 5759 entries, 3 to 8787\n",
      "Data columns (total 16 columns):\n",
      " #   Column             Non-Null Count  Dtype         \n",
      "---  ------             --------------  -----         \n",
      " 0   BirthDate          5759 non-null   datetime64[ns]\n",
      " 1   education          5759 non-null   category      \n",
      " 2   employment status  5759 non-null   category      \n",
      " 3   Value              5759 non-null   category      \n",
      " 4   JobStartDate       5759 non-null   datetime64[ns]\n",
      " 5   MonthProfit        5759 non-null   UInt64        \n",
      " 6   MonthExpense       5759 non-null   UInt64        \n",
      " 7   Gender             5759 non-null   category      \n",
      " 8   Family status      5759 non-null   category      \n",
      " 9   ChildCount         5759 non-null   UInt8         \n",
      " 10  SNILS              5759 non-null   category      \n",
      " 11  BankA_decision     5759 non-null   category      \n",
      " 12  Merch_code         5759 non-null   UInt8         \n",
      " 13  Loan_amount        5759 non-null   UInt64        \n",
      " 14  Loan_term          5759 non-null   category      \n",
      " 15  Goods_category     5759 non-null   category      \n",
      "dtypes: UInt64(3), UInt8(2), category(9), datetime64[ns](2)\n",
      "memory usage: 362.3 KB\n"
     ]
    }
   ],
   "source": [
    "cleared_bankAds.info()"
   ]
  }
 ],
 "metadata": {
  "kernelspec": {
   "display_name": "hakaton-cQ-v16if-py3.11",
   "language": "python",
   "name": "python3"
  },
  "language_info": {
   "codemirror_mode": {
    "name": "ipython",
    "version": 3
   },
   "file_extension": ".py",
   "mimetype": "text/x-python",
   "name": "python",
   "nbconvert_exporter": "python",
   "pygments_lexer": "ipython3",
   "version": "3.11.3"
  }
 },
 "nbformat": 4,
 "nbformat_minor": 2
}
