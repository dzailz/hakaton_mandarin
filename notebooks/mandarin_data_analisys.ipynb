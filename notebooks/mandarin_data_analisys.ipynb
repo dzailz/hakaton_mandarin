{
 "cells": [
  {
   "cell_type": "markdown",
   "metadata": {},
   "source": [
    "- Идентификатор заявки: SkillFactory_Id\n",
    "- Дата рождения: BirthDate\n",
    "- Адрес проживания: -\n",
    "- Исключен из расчета\n",
    "- Образование: education\n",
    "- Тип занятости: employment status\n",
    "- Стаж работы: Value\n",
    "- Дата начала работы: JobStartDate\n",
    "- Должность: Position\n",
    "- Рабочий телефон: -\n",
    "- Исключен из расчета\n",
    "- Ежемесячный доход: MonthProfit\n",
    "- Ежемесячный расход: MonthExpense\n",
    "- Пол: Gender\n",
    "    - Значения: 0 = М, 1 = Ж\n",
    "- Семейное положение: Family status\n",
    "- Кол-во детей младше 18 лет: ChildCount\n",
    "- СНИЛС: SNILS\n",
    "    - Значения: 0 = не указан в анкете, 1 = указан\n",
    "- Параметры заказа\n",
    "    - Сумма заказа: Loan_amount\n",
    "    - Срок кредита: Loan_term\n",
    "    - Категория товара: Goods_category\n",
    "    - Код магазина: Merch_code\n",
    "- Решение банка А: BankA_decision\n",
    "    - Значения: denied = отказ банка по заявке, success = одобрение банком заявки, error = банк вернул ошику\n",
    "- Решение банка B: BankB_decision\n",
    "    - Значения: denied = отказ банка по заявке, success = одобрение банком заявки, error = банк вернул ошибку\n",
    "- Решение банка C: BankC_decision\n",
    "    - Значения: denied = отказ банка по заявке, success = одобрение банком заявки, error = банк вернул ошибку\n",
    "- Решение банка D: BankD_decision\n",
    "    - Значения: denied = отказ банка по заявке, success = одобрение банком заявки, error = банк вернул ошибку\n",
    "- Решение банка E: BankE_decision\n",
    "    - Значения: denied = отказ банка по заявке, success = одобрение банком заявки, error = банк вернул ошибку\n",
    "\n"
   ]
  },
  {
   "cell_type": "code",
   "execution_count": 84,
   "metadata": {
    "ExecuteTime": {
     "end_time": "2023-12-05T20:19:03.252770225Z",
     "start_time": "2023-12-05T20:19:03.093019565Z"
    }
   },
   "outputs": [],
   "source": [
    "import pandas as pd\n",
    "import numpy as np\n",
    "import matplotlib.pyplot as plt\n",
    "import seaborn as sns"
   ]
  },
  {
   "cell_type": "code",
   "execution_count": 85,
   "metadata": {
    "ExecuteTime": {
     "end_time": "2023-12-05T20:19:03.256026635Z",
     "start_time": "2023-12-05T20:19:03.133578099Z"
    }
   },
   "outputs": [],
   "source": [
    "def drop_outliers(df, column_name):\n",
    "    \"\"\"\n",
    "    Drop outliers from a DataFrame based on a specified column.\n",
    "\n",
    "    Parameters:\n",
    "    - df: DataFrame\n",
    "    - column_name: str, the column to check for outliers\n",
    "\n",
    "    Returns:\n",
    "    - DataFrame without outliers\n",
    "    \"\"\"\n",
    "\n",
    "    # Calculate the 95% confidence interval\n",
    "    q1 = df[column_name].quantile(0.25)\n",
    "    q3 = df[column_name].quantile(0.75)\n",
    "    iqr = q3 - q1\n",
    "    lower_bound = q1 - 1.5 * iqr\n",
    "    upper_bound = q3 + 1.5 * iqr\n",
    "\n",
    "    # Identify and drop outliers\n",
    "    outliers = (df[column_name] < lower_bound) | (df[column_name] > upper_bound)\n",
    "    df_no_outliers = df[~outliers]\n",
    "\n",
    "    return df_no_outliers"
   ]
  },
  {
   "cell_type": "code",
   "execution_count": 86,
   "metadata": {
    "ExecuteTime": {
     "end_time": "2023-12-05T20:19:03.290855290Z",
     "start_time": "2023-12-05T20:19:03.133735900Z"
    }
   },
   "outputs": [],
   "source": [
    "df = pd.read_csv('../data/datasets/SF_Mandarin_dataset_ver3.csv', sep=';', index_col=0)\n"
   ]
  },
  {
   "cell_type": "code",
   "execution_count": 95,
   "metadata": {
    "ExecuteTime": {
     "end_time": "2023-12-05T20:19:35.407165954Z",
     "start_time": "2023-12-05T20:19:35.378824558Z"
    }
   },
   "outputs": [
    {
     "name": "stdout",
     "output_type": "stream",
     "text": [
      "<class 'pandas.core.frame.DataFrame'>\n",
      "Index: 6464 entries, 1 to 8787\n",
      "Data columns (total 21 columns):\n",
      " #   Column             Non-Null Count  Dtype         \n",
      "---  ------             --------------  -----         \n",
      " 0   birth_date         6464 non-null   datetime64[ns]\n",
      " 1   education          6464 non-null   object        \n",
      " 2   employment_status  6464 non-null   object        \n",
      " 3   value              6464 non-null   object        \n",
      " 4   job_start_date     6464 non-null   datetime64[ns]\n",
      " 5   position           6464 non-null   object        \n",
      " 6   month_profit       6464 non-null   float64       \n",
      " 7   month_expense      6464 non-null   float64       \n",
      " 8   gender             6464 non-null   float64       \n",
      " 9   family_status      6464 non-null   object        \n",
      " 10  child_count        6464 non-null   float64       \n",
      " 11  snils              6464 non-null   float64       \n",
      " 12  bank_a_decision    6464 non-null   object        \n",
      " 13  bank_b_decision    6464 non-null   object        \n",
      " 14  bank_c_decision    6464 non-null   object        \n",
      " 15  bank_d_decision    6464 non-null   object        \n",
      " 16  bank_e_decision    6464 non-null   object        \n",
      " 17  merch_code         6464 non-null   float64       \n",
      " 18  loan_amount        6464 non-null   float64       \n",
      " 19  loan_term          6464 non-null   float64       \n",
      " 20  goods_category     6464 non-null   object        \n",
      "dtypes: datetime64[ns](2), float64(8), object(11)\n",
      "memory usage: 1.1+ MB\n"
     ]
    }
   ],
   "source": [
    "df.info()"
   ]
  },
  {
   "cell_type": "code",
   "execution_count": 88,
   "metadata": {
    "ExecuteTime": {
     "end_time": "2023-12-05T20:19:03.295194845Z",
     "start_time": "2023-12-05T20:19:03.220951261Z"
    }
   },
   "outputs": [],
   "source": [
    "df.dropna(inplace=True)\n"
   ]
  },
  {
   "cell_type": "code",
   "execution_count": 88,
   "outputs": [],
   "source": [],
   "metadata": {
    "collapsed": false,
    "ExecuteTime": {
     "end_time": "2023-12-05T20:19:03.295483991Z",
     "start_time": "2023-12-05T20:19:03.223509341Z"
    }
   }
  },
  {
   "cell_type": "code",
   "execution_count": 89,
   "outputs": [],
   "source": [
    "df.drop_duplicates(inplace=True)"
   ],
   "metadata": {
    "collapsed": false,
    "ExecuteTime": {
     "end_time": "2023-12-05T20:19:03.295676390Z",
     "start_time": "2023-12-05T20:19:03.263624004Z"
    }
   }
  },
  {
   "cell_type": "code",
   "execution_count": 90,
   "metadata": {
    "ExecuteTime": {
     "end_time": "2023-12-05T20:19:03.352572714Z",
     "start_time": "2023-12-05T20:19:03.263817835Z"
    }
   },
   "outputs": [],
   "source": [
    "df.index = df.index.astype(int)"
   ]
  },
  {
   "cell_type": "code",
   "execution_count": 91,
   "outputs": [],
   "source": [
    "import re\n",
    "\n",
    "def camel_to_snake(name):\n",
    "    name = re.sub('(.)([A-Z][a-z]+)', r'\\1_\\2', name)\n",
    "    return re.sub('([a-z0-9])([A-Z])', r'\\1_\\2', name).lower()"
   ],
   "metadata": {
    "collapsed": false,
    "ExecuteTime": {
     "end_time": "2023-12-05T20:19:03.409565033Z",
     "start_time": "2023-12-05T20:19:03.292406219Z"
    }
   }
  },
  {
   "cell_type": "code",
   "execution_count": 92,
   "outputs": [],
   "source": [
    "def convert_from_camel_case_to_snake_case(df):\n",
    "    \"\"\"\n",
    "    Convert from camel case to snake case\n",
    "    \"\"\"\n",
    "    df.columns = df.columns.to_series().apply(camel_to_snake)\n",
    "    df.columns = df.columns.str.replace(' ', '_')"
   ],
   "metadata": {
    "collapsed": false,
    "ExecuteTime": {
     "end_time": "2023-12-05T20:19:13.680004339Z",
     "start_time": "2023-12-05T20:19:13.625847468Z"
    }
   }
  },
  {
   "cell_type": "code",
   "execution_count": 93,
   "outputs": [],
   "source": [
    "convert_from_camel_case_to_snake_case(df)"
   ],
   "metadata": {
    "collapsed": false,
    "ExecuteTime": {
     "end_time": "2023-12-05T20:19:16.182701647Z",
     "start_time": "2023-12-05T20:19:16.150947684Z"
    }
   }
  },
  {
   "cell_type": "code",
   "execution_count": 94,
   "metadata": {
    "ExecuteTime": {
     "end_time": "2023-12-05T20:19:17.677546676Z",
     "start_time": "2023-12-05T20:19:17.642975290Z"
    }
   },
   "outputs": [],
   "source": [
    "df['birth_date'] = pd.to_datetime(df['birth_date'])\n",
    "df['job_start_date'] = pd.to_datetime(df['job_start_date'])"
   ]
  },
  {
   "cell_type": "code",
   "execution_count": 75,
   "outputs": [],
   "source": [],
   "metadata": {
    "collapsed": false,
    "ExecuteTime": {
     "end_time": "2023-12-05T19:34:56.206769160Z",
     "start_time": "2023-12-05T19:34:56.097161232Z"
    }
   }
  },
  {
   "cell_type": "code",
   "execution_count": 76,
   "outputs": [],
   "source": [
    "def columns_to_type(df, columns: list[str], dtype: str):\n",
    "    \"\"\"\n",
    "    Set columns to type\n",
    "    \"\"\"\n",
    "    for column in columns:\n",
    "        df[column] = df[column].astype(dtype)"
   ],
   "metadata": {
    "collapsed": false,
    "ExecuteTime": {
     "end_time": "2023-12-05T19:34:56.207072964Z",
     "start_time": "2023-12-05T19:34:56.137594402Z"
    }
   }
  },
  {
   "cell_type": "code",
   "execution_count": 77,
   "outputs": [],
   "source": [
    "# to int64\n",
    "columns_to_type(df, ['month_profit', 'month_expense', 'loan_amount'], 'UInt64')"
   ],
   "metadata": {
    "collapsed": false,
    "ExecuteTime": {
     "end_time": "2023-12-05T19:34:56.207633731Z",
     "start_time": "2023-12-05T19:34:56.137762172Z"
    }
   }
  },
  {
   "cell_type": "code",
   "execution_count": 78,
   "outputs": [],
   "source": [
    "columns_to_type(df, ['snils', 'gender', 'merch_code', 'child_count', 'loan_term'], 'UInt8')\n",
    "columns_to_type(df, ['family_status', 'goods_category', 'position', 'employment_status', 'education', 'snils', 'gender'], 'category')"
   ],
   "metadata": {
    "collapsed": false,
    "ExecuteTime": {
     "end_time": "2023-12-05T19:34:56.239785815Z",
     "start_time": "2023-12-05T19:34:56.158708799Z"
    }
   }
  },
  {
   "cell_type": "code",
   "execution_count": 79,
   "outputs": [],
   "source": [
    "for i in ['a', 'b', 'c', 'd', 'e']:\n",
    "    df[f'bank_{i}_decision'] = df[f'bank_{i}_decision'].astype('category')"
   ],
   "metadata": {
    "collapsed": false,
    "ExecuteTime": {
     "end_time": "2023-12-05T19:34:56.265030477Z",
     "start_time": "2023-12-05T19:34:56.203094541Z"
    }
   }
  },
  {
   "cell_type": "code",
   "execution_count": 80,
   "outputs": [
    {
     "name": "stdout",
     "output_type": "stream",
     "text": [
      "<class 'pandas.core.frame.DataFrame'>\n",
      "Index: 6464 entries, 1 to 8787\n",
      "Data columns (total 21 columns):\n",
      " #   Column             Non-Null Count  Dtype         \n",
      "---  ------             --------------  -----         \n",
      " 0   birth_date         6464 non-null   datetime64[ns]\n",
      " 1   education          6464 non-null   category      \n",
      " 2   employment_status  6464 non-null   category      \n",
      " 3   value              6464 non-null   object        \n",
      " 4   job_start_date     6464 non-null   datetime64[ns]\n",
      " 5   position           6464 non-null   category      \n",
      " 6   month_profit       6464 non-null   UInt64        \n",
      " 7   month_expense      6464 non-null   UInt64        \n",
      " 8   gender             6464 non-null   category      \n",
      " 9   family_status      6464 non-null   category      \n",
      " 10  child_count        6464 non-null   UInt8         \n",
      " 11  snils              6464 non-null   category      \n",
      " 12  bank_a_decision    6464 non-null   category      \n",
      " 13  bank_b_decision    6464 non-null   category      \n",
      " 14  bank_c_decision    6464 non-null   category      \n",
      " 15  bank_d_decision    6464 non-null   category      \n",
      " 16  bank_e_decision    6464 non-null   category      \n",
      " 17  merch_code         6464 non-null   UInt8         \n",
      " 18  loan_amount        6464 non-null   UInt64        \n",
      " 19  loan_term          6464 non-null   UInt8         \n",
      " 20  goods_category     6464 non-null   category      \n",
      "dtypes: UInt64(3), UInt8(3), category(12), datetime64[ns](2), object(1)\n",
      "memory usage: 535.5+ KB\n"
     ]
    }
   ],
   "source": [
    "df.info()"
   ],
   "metadata": {
    "collapsed": false,
    "ExecuteTime": {
     "end_time": "2023-12-05T19:35:04.534844741Z",
     "start_time": "2023-12-05T19:35:04.500479063Z"
    }
   }
  },
  {
   "cell_type": "code",
   "execution_count": 81,
   "metadata": {
    "ExecuteTime": {
     "end_time": "2023-12-05T19:35:45.254225941Z",
     "start_time": "2023-12-05T19:35:45.121238564Z"
    }
   },
   "outputs": [],
   "source": [
    "df.to_parquet('../data/datasets/preprocessed_dataset.parquet', compression='gzip',)"
   ]
  },
  {
   "cell_type": "code",
   "execution_count": 82,
   "outputs": [],
   "source": [
    "df = pd.read_parquet('../data/datasets/preprocessed_dataset.parquet')"
   ],
   "metadata": {
    "collapsed": false,
    "ExecuteTime": {
     "end_time": "2023-12-05T19:35:58.708393461Z",
     "start_time": "2023-12-05T19:35:58.640947798Z"
    }
   }
  },
  {
   "cell_type": "code",
   "execution_count": 83,
   "outputs": [
    {
     "name": "stdout",
     "output_type": "stream",
     "text": [
      "<class 'pandas.core.frame.DataFrame'>\n",
      "Index: 6464 entries, 1 to 8787\n",
      "Data columns (total 21 columns):\n",
      " #   Column             Non-Null Count  Dtype         \n",
      "---  ------             --------------  -----         \n",
      " 0   birth_date         6464 non-null   datetime64[ns]\n",
      " 1   education          6464 non-null   category      \n",
      " 2   employment_status  6464 non-null   category      \n",
      " 3   value              6464 non-null   object        \n",
      " 4   job_start_date     6464 non-null   datetime64[ns]\n",
      " 5   position           6464 non-null   category      \n",
      " 6   month_profit       6464 non-null   UInt64        \n",
      " 7   month_expense      6464 non-null   UInt64        \n",
      " 8   gender             6464 non-null   uint8         \n",
      " 9   family_status      6464 non-null   category      \n",
      " 10  child_count        6464 non-null   UInt8         \n",
      " 11  snils              6464 non-null   uint8         \n",
      " 12  bank_a_decision    6464 non-null   category      \n",
      " 13  bank_b_decision    6464 non-null   category      \n",
      " 14  bank_c_decision    6464 non-null   category      \n",
      " 15  bank_d_decision    6464 non-null   category      \n",
      " 16  bank_e_decision    6464 non-null   category      \n",
      " 17  merch_code         6464 non-null   UInt8         \n",
      " 18  loan_amount        6464 non-null   UInt64        \n",
      " 19  loan_term          6464 non-null   UInt8         \n",
      " 20  goods_category     6464 non-null   category      \n",
      "dtypes: UInt64(3), UInt8(3), category(10), datetime64[ns](2), object(1), uint8(2)\n",
      "memory usage: 535.3+ KB\n"
     ]
    }
   ],
   "source": [
    "df.info()"
   ],
   "metadata": {
    "collapsed": false,
    "ExecuteTime": {
     "end_time": "2023-12-05T19:36:03.417438285Z",
     "start_time": "2023-12-05T19:36:03.400004269Z"
    }
   }
  },
  {
   "cell_type": "code",
   "execution_count": null,
   "metadata": {
    "ExecuteTime": {
     "start_time": "2023-12-05T18:26:13.404957122Z"
    }
   },
   "outputs": [],
   "source": [
    "df['Position'] = df['Position'].str.lower()\n"
   ]
  },
  {
   "cell_type": "code",
   "execution_count": null,
   "metadata": {
    "ExecuteTime": {
     "start_time": "2023-12-05T18:26:13.409089699Z"
    }
   },
   "outputs": [],
   "source": [
    "df.info()"
   ]
  },
  {
   "cell_type": "code",
   "execution_count": null,
   "metadata": {
    "ExecuteTime": {
     "start_time": "2023-12-05T18:26:13.412192031Z"
    }
   },
   "outputs": [],
   "source": [
    "df.head()"
   ]
  },
  {
   "cell_type": "code",
   "execution_count": null,
   "metadata": {
    "ExecuteTime": {
     "start_time": "2023-12-05T18:26:13.417729793Z"
    }
   },
   "outputs": [],
   "source": [
    "summary_stats = df.describe()\n",
    "print(summary_stats)"
   ]
  },
  {
   "cell_type": "code",
   "execution_count": null,
   "metadata": {
    "ExecuteTime": {
     "start_time": "2023-12-05T18:26:13.418025753Z"
    }
   },
   "outputs": [],
   "source": [
    "# Plot histograms for numeric variables\n",
    "numeric_vars = ['MonthProfit', 'MonthExpense', 'ChildCount', 'SNILS', 'Loan_amount', 'Loan_term', 'Merch_code']\n",
    "df[numeric_vars].hist(bins=20, figsize=(15, 10))\n",
    "plt.show()"
   ]
  },
  {
   "cell_type": "code",
   "execution_count": null,
   "metadata": {
    "ExecuteTime": {
     "start_time": "2023-12-05T18:26:13.420618208Z"
    }
   },
   "outputs": [],
   "source": [
    "plt.figure(figsize=(10, 6))\n",
    "sns.boxplot(df['MonthProfit'],)\n",
    "plt.title(f'Distribution of MonthProfit')\n",
    "plt.show()"
   ]
  },
  {
   "cell_type": "code",
   "execution_count": null,
   "metadata": {
    "ExecuteTime": {
     "start_time": "2023-12-05T18:26:13.442175877Z"
    }
   },
   "outputs": [],
   "source": [
    "df[df['MonthProfit'] > 1000000]"
   ]
  },
  {
   "cell_type": "code",
   "execution_count": null,
   "metadata": {
    "ExecuteTime": {
     "start_time": "2023-12-05T18:26:13.442409361Z"
    }
   },
   "outputs": [],
   "source": [
    "# Explore categorical variables\n",
    "cat_vars = ['education', 'employment status', 'Family status', 'Goods_category', 'SNILS', 'Gender']\n",
    "for var in cat_vars:\n",
    "    plt.figure(figsize=(20, 6))\n",
    "    sns.countplot(x=var, data=df)\n",
    "    plt.title(f'Distribution of {var}')\n",
    "    plt.show()"
   ]
  },
  {
   "cell_type": "code",
   "execution_count": null,
   "metadata": {
    "ExecuteTime": {
     "start_time": "2023-12-05T18:26:13.445392798Z"
    }
   },
   "outputs": [],
   "source": [
    "# Explore bank decisions\n",
    "bank_decision = ['BankA_decision', 'BankB_decision', 'BankC_decision', 'BankD_decision', 'BankE_decision']\n",
    "for bank in bank_decision:\n",
    "    plt.figure(figsize=(10, 6))\n",
    "    sns.countplot(x=bank, data=df)\n",
    "    plt.title(f'Distribution of {bank}')\n",
    "    plt.show()"
   ]
  },
  {
   "cell_type": "code",
   "execution_count": null,
   "metadata": {
    "ExecuteTime": {
     "start_time": "2023-12-05T18:26:13.445760423Z"
    }
   },
   "outputs": [],
   "source": [
    "# List of bank decision columns\n",
    "bank_decision_columns = ['BankA_decision', 'BankB_decision', 'BankC_decision', 'BankD_decision', 'BankE_decision']\n",
    "\n",
    "# Create a new column 'Overall_decision' with the overall decision for each row\n",
    "df['Overall_decision'] = df[bank_decision_columns].apply(lambda row: 'success' if 'success' in row.values else 'denied', axis=1)\n",
    "df['Overall_decision'] = df['Overall_decision'].astype('category')\n",
    "\n",
    "# Count the overall decisions\n",
    "overall_decision_count = df['Overall_decision'].value_counts()\n",
    "\n",
    "# Display the results\n",
    "print(\"Overall Bank Decisions:\")\n",
    "print(overall_decision_count)"
   ]
  },
  {
   "cell_type": "code",
   "execution_count": null,
   "metadata": {
    "ExecuteTime": {
     "start_time": "2023-12-05T18:26:13.445946406Z"
    }
   },
   "outputs": [],
   "source": [
    "# Set the style for seaborn\n",
    "sns.set(style=\"whitegrid\")\n",
    "\n",
    "# Create a bar plot comparing 'Family status' with 'ChildCount'\n",
    "plt.figure(figsize=(20, 6))\n",
    "sns.barplot(x='Family status', y='ChildCount', data=df, palette='viridis', hue='Goods_category')\n",
    "plt.title('Comparison of Family Status and Child Count')\n",
    "plt.xlabel('Family Status')\n",
    "plt.ylabel('Child Count')\n",
    "plt.show()"
   ]
  },
  {
   "cell_type": "code",
   "execution_count": null,
   "metadata": {
    "ExecuteTime": {
     "start_time": "2023-12-05T18:26:13.446116265Z"
    }
   },
   "outputs": [],
   "source": [
    "# Set the style for seaborn\n",
    "sns.set(style=\"whitegrid\")\n",
    "\n",
    "# Create a bar plot comparing 'MonthProfit' and 'MonthExpense'\n",
    "plt.figure(figsize=(20, 6))\n",
    "sns.barplot(x='Family status', y='MonthProfit', data=df, color='skyblue', label='MonthProfit', errorbar=None)\n",
    "sns.barplot(x='Family status', y='MonthExpense', data=df, color='orange', label='MonthExpense', errorbar=None)\n",
    "plt.title('Comparison of MonthProfit and MonthExpense by Family Status')\n",
    "plt.xlabel('Family Status')\n",
    "plt.ylabel('Amount')\n",
    "plt.legend()\n",
    "plt.show()"
   ]
  },
  {
   "cell_type": "code",
   "execution_count": null,
   "metadata": {
    "ExecuteTime": {
     "start_time": "2023-12-05T18:26:13.446448873Z"
    }
   },
   "outputs": [],
   "source": [
    "# Select columns related to bank decisions\n",
    "bank_decisions_columns = ['BankA_decision', 'BankB_decision', 'BankC_decision', 'BankD_decision', 'BankE_decision']\n",
    "\n",
    "# Create a DataFrame containing only bank decision columns\n",
    "bank_decisions_df = df[bank_decisions_columns]\n",
    "\n",
    "# Map 'success' and 'denied' to numeric values (1 and 0)\n",
    "bank_decisions_df_numeric = bank_decisions_df.map(lambda x: 1 if x == 'success' else 0)\n",
    "\n",
    "# Calculate the correlation matrix\n",
    "correlation_matrix = bank_decisions_df_numeric.corr()\n",
    "\n",
    "# Create a heatmap\n",
    "plt.figure(figsize=(10, 8))\n",
    "sns.heatmap(correlation_matrix, annot=True, cmap='coolwarm', linewidths=.5)\n",
    "plt.title('Correlation Heatmap for Bank Decisions')\n",
    "plt.show()"
   ]
  },
  {
   "cell_type": "code",
   "execution_count": null,
   "metadata": {
    "ExecuteTime": {
     "start_time": "2023-12-05T18:26:13.446607420Z"
    }
   },
   "outputs": [],
   "source": [
    "df['MonthExpense'].describe()"
   ]
  },
  {
   "cell_type": "code",
   "execution_count": null,
   "metadata": {
    "ExecuteTime": {
     "start_time": "2023-12-05T18:26:13.446741582Z"
    }
   },
   "outputs": [],
   "source": [
    "df['Income_Expense_Ratio'] = np.where(df['MonthExpense'] != 0, df['MonthProfit'] / df['MonthExpense'], np.nan)\n",
    "\n",
    "# Display the updated DataFrame\n",
    "print(df[['MonthProfit', 'MonthExpense', 'Income_Expense_Ratio']])"
   ]
  },
  {
   "cell_type": "code",
   "execution_count": null,
   "metadata": {
    "ExecuteTime": {
     "start_time": "2023-12-05T18:26:13.446862393Z"
    }
   },
   "outputs": [],
   "source": [
    "df['Income_Expense_Ratio'].isna().sum()"
   ]
  },
  {
   "cell_type": "code",
   "execution_count": null,
   "metadata": {
    "ExecuteTime": {
     "start_time": "2023-12-05T18:26:13.447020173Z"
    }
   },
   "outputs": [],
   "source": [
    "# Set the style for seaborn\n",
    "sns.set(style=\"whitegrid\")\n",
    "\n",
    "# Filter the DataFrame for ratios less than or equal to 10\n",
    "filtered_df = df[df['Income_Expense_Ratio'] <= 10]\n",
    "\n",
    "# Create a boxplot for 'Income_Expense_Ratio'\n",
    "plt.figure(figsize=(10, 6))\n",
    "sns.boxplot(x=filtered_df['Income_Expense_Ratio'], color='skyblue')\n",
    "plt.title('Boxplot of Income-to-Expense Ratio (<= 10)')\n",
    "plt.xlabel('Income-to-Expense Ratio')\n",
    "plt.show()"
   ]
  },
  {
   "cell_type": "code",
   "execution_count": null,
   "metadata": {
    "ExecuteTime": {
     "start_time": "2023-12-05T18:26:13.447143361Z"
    }
   },
   "outputs": [],
   "source": [
    "print(df.info())"
   ]
  },
  {
   "cell_type": "code",
   "execution_count": null,
   "metadata": {
    "ExecuteTime": {
     "start_time": "2023-12-05T18:26:13.447255463Z"
    }
   },
   "outputs": [],
   "source": [
    "# Create a scatter plot for 'Loan_amount' and 'Loan_term'\n",
    "plt.figure(figsize=(10, 6))\n",
    "plt.scatter(df['Loan_amount'], df['Loan_term'], color='skyblue', alpha=0.5, )\n",
    "plt.title('Scatter Plot of Loan Amount vs. Loan Term')\n",
    "plt.xlabel('Loan Amount')\n",
    "plt.ylabel('Loan Term')\n",
    "plt.show()"
   ]
  },
  {
   "cell_type": "code",
   "execution_count": null,
   "metadata": {
    "ExecuteTime": {
     "start_time": "2023-12-05T18:26:13.447515099Z"
    }
   },
   "outputs": [],
   "source": [
    "import scipy.stats as stats\n",
    "import seaborn as sns\n",
    "import matplotlib.pyplot as plt\n",
    "from sklearn.preprocessing import LabelEncoder\n",
    "\n",
    "# List of bank decision columns\n",
    "bank_decision_columns = ['BankA_decision', 'BankB_decision', 'BankC_decision', 'BankD_decision', 'BankE_decision']\n",
    "\n",
    "# Calculate point-biserial correlation with loan term for each bank decision\n",
    "label_encoder = LabelEncoder()\n",
    "for bank in bank_decision_columns:\n",
    "    df[bank] = label_encoder.fit_transform(df[bank])\n",
    "\n",
    "    # Calculate point-biserial correlation with loan term for 'BankA_decision_encoded'\n",
    "    correlation, _ = stats.pointbiserialr(df[bank], df['Loan_term'])\n",
    "\n",
    "    # Display the correlation coefficient\n",
    "    print(f\"Correlation between BankA_decision and Loan_term: {correlation}\")\n",
    "\n",
    "    # Visualize the relationship using a box plot\n",
    "    plt.figure(figsize=(12, 8))\n",
    "    sns.boxplot(x='Loan_term', y=bank, data=df, orient='h')\n",
    "    plt.title(f'Box Plot of Loan Term by {bank}')\n",
    "    plt.xlabel('Loan Term')\n",
    "    plt.ylabel(f'{bank} Decision (Encoded)')\n",
    "    plt.show()\n",
    "        \n"
   ]
  },
  {
   "cell_type": "code",
   "execution_count": null,
   "metadata": {
    "ExecuteTime": {
     "start_time": "2023-12-05T18:26:13.447735442Z"
    }
   },
   "outputs": [],
   "source": [
    "df.to_csv('datasets/SF_Mandarin_dataset_processed.csv', sep=',')"
   ]
  }
 ],
 "metadata": {
  "kernelspec": {
   "display_name": "hakaton-cQ-v16if-py3.11",
   "language": "python",
   "name": "python3"
  },
  "language_info": {
   "codemirror_mode": {
    "name": "ipython",
    "version": 3
   },
   "file_extension": ".py",
   "mimetype": "text/x-python",
   "name": "python",
   "nbconvert_exporter": "python",
   "pygments_lexer": "ipython3",
   "version": "3.11.3"
  }
 },
 "nbformat": 4,
 "nbformat_minor": 2
}
